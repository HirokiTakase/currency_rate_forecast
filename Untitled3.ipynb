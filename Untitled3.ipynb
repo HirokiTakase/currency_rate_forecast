{
  "nbformat": 4,
  "nbformat_minor": 0,
  "metadata": {
    "colab": {
      "name": "Untitled3.ipynb",
      "provenance": [],
      "include_colab_link": true
    },
    "kernelspec": {
      "name": "python3",
      "display_name": "Python 3"
    }
  },
  "cells": [
    {
      "cell_type": "markdown",
      "metadata": {
        "id": "view-in-github",
        "colab_type": "text"
      },
      "source": [
        "<a href=\"https://colab.research.google.com/github/HirokiTakase/currency_rate_forecast/blob/master/Untitled3.ipynb\" target=\"_parent\"><img src=\"https://colab.research.google.com/assets/colab-badge.svg\" alt=\"Open In Colab\"/></a>"
      ]
    },
    {
      "cell_type": "code",
      "metadata": {
        "id": "0Fofk97fpy6g",
        "colab_type": "code",
        "colab": {}
      },
      "source": [
        "\n",
        "import tweepy\n",
        "import datetime\n",
        "import pandas as pd\n",
        "\n",
        "# ツイートデータ取得全般\n",
        "def gettwitterdata(start_day, end_day):\n",
        "    #Twitter APIを使用するためのConsumerキー、アクセストークン設定\n",
        "    Consumer_key = 'ytE7cB4Br9R4GxejaYtvds0tb'\n",
        "    Consumer_secret = 'lwrTLj6pjj8k1rR2q5jod3EEi0h5bpcUswTnl0bdIEJAk1sn4W'\n",
        "    Access_token = '1183414488143253504-21DwhCeewiDYl0cMw8Ra2UGAc3cWZk'\n",
        "    Access_secret = 'VnPgbzA0MybT6Qy1r052G87mgfDchcKgfPz9UFafzQF5C'\n",
        "\n",
        "    #認証\n",
        "    auth = tweepy.OAuthHandler(Consumer_key, Consumer_secret)\n",
        "    auth.set_access_token(Access_token, Access_secret)\n",
        "    api = tweepy.API(auth)\n",
        "\n",
        "    # リストの初期化\n",
        "    trump_tweet_list = []\n",
        "    trump_created_at_list = [] \n",
        "    trump_tweets = api.user_timeline(screen_name=\"realDonaldTrump\", \n",
        "                                     count=500)\n",
        "    # 対象の期間のツイートデータをリストに追加\n",
        "    for tt in trump_tweets:    \n",
        "        tt.created_at = tt.created_at + datetime.timedelta(hours = 9)\n",
        "        if start_day <= tt.created_at and tt.created_at <= end_day:\n",
        "          trump_tweet_list.append(tt.text)\n",
        "          trump_created_at_list.append(tt.created_at)\n",
        "\n",
        "    # リストをdfに変換      \n",
        "    trump_df = pd.DataFrame({'Tweet' : trump_tweet_list,'Date' : trump_created_at_list})\n",
        "    # 時間の秒を落す\n",
        "    trump_df[\"Date\"] = trump_df[\"Date\"].dt.floor('Min')\n",
        "    # データ保存\n",
        "    trump_df.to_csv('trump.csv', index=False, encoding= 'utf-8')\n",
        "    return True\n",
        "\n",
        "if __name__ == '__main__':\n",
        "    gettwitterdata(datetime.datetime(2019,11,10), datetime.datetime(2019,11,11))"
      ],
      "execution_count": 0,
      "outputs": []
    },
    {
      "cell_type": "code",
      "metadata": {
        "id": "7q3yL_4jyrpn",
        "colab_type": "code",
        "colab": {}
      },
      "source": [
        ""
      ],
      "execution_count": 0,
      "outputs": []
    }
  ]
}